{
  "nbformat": 4,
  "nbformat_minor": 0,
  "metadata": {
    "colab": {
      "provenance": [],
      "collapsed_sections": [],
      "authorship_tag": "ABX9TyOVGUSFtizB4aB0Jcj1o2IC",
      "include_colab_link": true
    },
    "kernelspec": {
      "name": "python3",
      "display_name": "Python 3"
    },
    "language_info": {
      "name": "python"
    }
  },
  "cells": [
    {
      "cell_type": "markdown",
      "metadata": {
        "id": "view-in-github",
        "colab_type": "text"
      },
      "source": [
        "<a href=\"https://colab.research.google.com/github/JayanthPrudhivi6/JayanthPrudhivi_INFO5502_Spring2022/blob/main/DSPYTHON.ipynb\" target=\"_parent\"><img src=\"https://colab.research.google.com/assets/colab-badge.svg\" alt=\"Open In Colab\"/></a>"
      ]
    },
    {
      "cell_type": "code",
      "execution_count": 124,
      "metadata": {
        "id": "D-o579ZVMo7J"
      },
      "outputs": [],
      "source": [
        "class Node:\n",
        "    def __init__(self, data):\n",
        "        self.item = data\n",
        "        self.ref = None"
      ]
    },
    {
      "cell_type": "markdown",
      "source": [
        "Creating the Single Linked List Class"
      ],
      "metadata": {
        "id": "4Y-hvXUrMzHL"
      }
    },
    {
      "cell_type": "code",
      "source": [
        "class LinkedList:\n",
        "    def __init__(self):\n",
        "        self.start_node = None\n",
        "    def traverse_list(self):\n",
        "      if self.start_node is None:\n",
        "        print(\"List has no element\")\n",
        "        return\n",
        "      else:\n",
        "        n = self.start_node\n",
        "        while n is not None:\n",
        "            print(n.item , \" \")\n",
        "            n = n.ref\n",
        "    def insert_at_start(self, data):\n",
        "        new_node = Node(data)\n",
        "        new_node.ref = self.start_node\n",
        "        self.start_node= new_node\n",
        "    def insert_at_end(self, data):\n",
        "        new_node = Node(data)\n",
        "        if self.start_node is None:\n",
        "            self.start_node = new_node\n",
        "            return\n",
        "        n = self.start_node\n",
        "        while n.ref is not None:\n",
        "            n= n.ref\n",
        "        n.ref = new_node;\n",
        "    def insert_after_item(self, x, data):\n",
        "\n",
        "        n = self.start_node\n",
        "        print(n.ref)\n",
        "        while n is not None:\n",
        "            if n.item == x:\n",
        "                break\n",
        "            n = n.ref\n",
        "        if n is None:\n",
        "            print(\"item not in the list\")\n",
        "        else:\n",
        "            new_node = Node(data)\n",
        "            new_node.ref = n.ref\n",
        "            n.ref = new_node\n",
        "    def insert_before_item(self, x, data):\n",
        "        if self.start_node is None:\n",
        "            print(\"List has no element\")\n",
        "            return\n",
        "\n",
        "        if x == self.start_node.item:\n",
        "            new_node = Node(data)\n",
        "            new_node.ref = self.start_node\n",
        "            self.start_node = new_node\n",
        "            return\n",
        "\n",
        "        n = self.start_node\n",
        "        print(n.ref)\n",
        "        while n.ref is not None:\n",
        "            if n.ref.item == x:\n",
        "                break\n",
        "            n = n.ref\n",
        "        if n.ref is None:\n",
        "            print(\"item not in the list\")\n",
        "        else:\n",
        "            new_node = Node(data)\n",
        "            new_node.ref = n.ref\n",
        "            n.ref = new_node\n",
        "    def insert_at_index (self, index, data):\n",
        "        if index == 1:\n",
        "            new_node = Node(data)\n",
        "            new_node.ref = self.start_node\n",
        "            self.start_node = new_node\n",
        "        i = 1\n",
        "        n = self.start_node\n",
        "        while i < index-1 and n is not None:\n",
        "            n = n.ref\n",
        "            i = i+1\n",
        "        if n is None:\n",
        "            print(\"Index out of bound\")\n",
        "        else: \n",
        "            new_node = Node(data)\n",
        "            new_node.ref = n.ref\n",
        "            n.ref = new_node\n",
        "    def delete_at_start(self):\n",
        "        if self.start_node is None:\n",
        "            print(\"The list has no element to delete\")\n",
        "            return \n",
        "        self.start_node = self.start_node.ref\n",
        "    def delete_at_end(self):\n",
        "        if self.start_node is None:\n",
        "            print(\"The list has no element to delete\")\n",
        "            return\n",
        "\n",
        "        n = self.start_node\n",
        "        while n.ref.ref is not None:\n",
        "            n = n.ref\n",
        "        n.ref = None\n",
        "    def delete_element_by_value(self, x):\n",
        "      if self.start_node is None:\n",
        "        print(\"The list has no element to delete\")\n",
        "        return\n",
        "\n",
        "    # Deleting first node \n",
        "      if self.start_node.item == x:\n",
        "        self.start_node = self.start_node.ref\n",
        "        return\n",
        "\n",
        "      n = self.start_node\n",
        "      while n.ref is not None:\n",
        "         if n.ref.item == x:\n",
        "            break\n",
        "         n = n.ref\n",
        "\n",
        "      if n.ref is None:\n",
        "        print(\"item not found in the list\")\n",
        "      else:\n",
        "        n.ref = n.ref.ref"
      ],
      "metadata": {
        "id": "cryxGY7qMvm6"
      },
      "execution_count": 125,
      "outputs": []
    },
    {
      "cell_type": "code",
      "source": [
        "new_linked_list = LinkedList()"
      ],
      "metadata": {
        "id": "2--rG-kuNpJs"
      },
      "execution_count": 126,
      "outputs": []
    },
    {
      "cell_type": "code",
      "source": [
        "new_linked_list.insert_at_end(5)\n",
        "new_linked_list.insert_at_end(10)\n",
        "new_linked_list.insert_at_end(15)"
      ],
      "metadata": {
        "id": "L6HUZ-wNNtec"
      },
      "execution_count": 127,
      "outputs": []
    },
    {
      "cell_type": "code",
      "source": [
        "new_linked_list.traverse_list()"
      ],
      "metadata": {
        "colab": {
          "base_uri": "https://localhost:8080/"
        },
        "id": "xehQIbvxNv0_",
        "outputId": "94f4d743-c167-4303-a055-f330d294415f"
      },
      "execution_count": 128,
      "outputs": [
        {
          "output_type": "stream",
          "name": "stdout",
          "text": [
            "5  \n",
            "10  \n",
            "15  \n"
          ]
        }
      ]
    },
    {
      "cell_type": "code",
      "source": [
        "new_linked_list.insert_at_start(20)\n",
        "new_linked_list.traverse_list()"
      ],
      "metadata": {
        "colab": {
          "base_uri": "https://localhost:8080/"
        },
        "id": "jnAsXiFVPFK0",
        "outputId": "e40b8d35-0a83-43a8-991f-6b3f38bc7a7b"
      },
      "execution_count": 129,
      "outputs": [
        {
          "output_type": "stream",
          "name": "stdout",
          "text": [
            "20  \n",
            "5  \n",
            "10  \n",
            "15  \n"
          ]
        }
      ]
    },
    {
      "cell_type": "markdown",
      "source": [
        "Let's add a new item 17 after item 10:"
      ],
      "metadata": {
        "id": "RRg-HN5YPQb7"
      }
    },
    {
      "cell_type": "code",
      "source": [
        "new_linked_list.insert_after_item(10, 17)"
      ],
      "metadata": {
        "colab": {
          "base_uri": "https://localhost:8080/"
        },
        "id": "X2JOkoFYPITq",
        "outputId": "0e3aea51-be76-45cd-c9c7-4f90757b17f1"
      },
      "execution_count": 130,
      "outputs": [
        {
          "output_type": "stream",
          "name": "stdout",
          "text": [
            "<__main__.Node object at 0x7f5020503450>\n"
          ]
        }
      ]
    },
    {
      "cell_type": "code",
      "source": [
        "new_linked_list.traverse_list()"
      ],
      "metadata": {
        "colab": {
          "base_uri": "https://localhost:8080/"
        },
        "id": "ecdIkqdGPWe-",
        "outputId": "d35fb1a2-ad9c-4450-e5f5-353fb438e49b"
      },
      "execution_count": 131,
      "outputs": [
        {
          "output_type": "stream",
          "name": "stdout",
          "text": [
            "20  \n",
            "5  \n",
            "10  \n",
            "17  \n",
            "15  \n"
          ]
        }
      ]
    },
    {
      "cell_type": "markdown",
      "source": [
        "Let's now insert another item 25 before the item 17 using insert_before_item() function as shown below:"
      ],
      "metadata": {
        "id": "TpN9-GCwPcwY"
      }
    },
    {
      "cell_type": "code",
      "source": [
        "new_linked_list.insert_before_item(17, 25)"
      ],
      "metadata": {
        "colab": {
          "base_uri": "https://localhost:8080/"
        },
        "id": "RIaXmKM0PYIp",
        "outputId": "72853386-ed23-495c-c89a-76a957017133"
      },
      "execution_count": 132,
      "outputs": [
        {
          "output_type": "stream",
          "name": "stdout",
          "text": [
            "<__main__.Node object at 0x7f5020503450>\n"
          ]
        }
      ]
    },
    {
      "cell_type": "code",
      "source": [
        "new_linked_list.traverse_list()"
      ],
      "metadata": {
        "colab": {
          "base_uri": "https://localhost:8080/"
        },
        "id": "a5HHxcMuPhvQ",
        "outputId": "bf555ee0-031c-43d4-e835-0aceb77925d1"
      },
      "execution_count": 133,
      "outputs": [
        {
          "output_type": "stream",
          "name": "stdout",
          "text": [
            "20  \n",
            "5  \n",
            "10  \n",
            "25  \n",
            "17  \n",
            "15  \n"
          ]
        }
      ]
    },
    {
      "cell_type": "code",
      "source": [
        "new_linked_list.insert_at_index(3,8)"
      ],
      "metadata": {
        "id": "QMFUCQQ6PtRp"
      },
      "execution_count": 134,
      "outputs": []
    },
    {
      "cell_type": "code",
      "source": [
        "new_linked_list.traverse_list()"
      ],
      "metadata": {
        "colab": {
          "base_uri": "https://localhost:8080/"
        },
        "id": "I6j508f2PxgL",
        "outputId": "a4c1c230-a03a-4877-f432-4a5b17749ad4"
      },
      "execution_count": 135,
      "outputs": [
        {
          "output_type": "stream",
          "name": "stdout",
          "text": [
            "20  \n",
            "5  \n",
            "8  \n",
            "10  \n",
            "25  \n",
            "17  \n",
            "15  \n"
          ]
        }
      ]
    },
    {
      "cell_type": "code",
      "source": [
        "new_linked_list.delete_at_start()"
      ],
      "metadata": {
        "id": "0KGfVa8NP1uJ"
      },
      "execution_count": 136,
      "outputs": []
    },
    {
      "cell_type": "code",
      "source": [
        "new_linked_list.traverse_list()"
      ],
      "metadata": {
        "colab": {
          "base_uri": "https://localhost:8080/"
        },
        "id": "xo2liMK7Rz1S",
        "outputId": "1c99371e-4302-4352-f5a4-db7c11792e36"
      },
      "execution_count": 137,
      "outputs": [
        {
          "output_type": "stream",
          "name": "stdout",
          "text": [
            "5  \n",
            "8  \n",
            "10  \n",
            "25  \n",
            "17  \n",
            "15  \n"
          ]
        }
      ]
    },
    {
      "cell_type": "code",
      "source": [
        "new_linked_list.delete_at_end()"
      ],
      "metadata": {
        "id": "Ne5VjYeURsuT"
      },
      "execution_count": 138,
      "outputs": []
    },
    {
      "cell_type": "code",
      "source": [
        "new_linked_list.traverse_list()"
      ],
      "metadata": {
        "colab": {
          "base_uri": "https://localhost:8080/"
        },
        "id": "593M4OLVR1fN",
        "outputId": "7243deff-cfef-4fef-cce7-645df89ec9e2"
      },
      "execution_count": 139,
      "outputs": [
        {
          "output_type": "stream",
          "name": "stdout",
          "text": [
            "5  \n",
            "8  \n",
            "10  \n",
            "25  \n",
            "17  \n"
          ]
        }
      ]
    },
    {
      "cell_type": "code",
      "source": [
        "new_linked_list.delete_element_by_value(10)"
      ],
      "metadata": {
        "id": "WAfgG4Y9R6FH"
      },
      "execution_count": 141,
      "outputs": []
    },
    {
      "cell_type": "code",
      "source": [
        "new_linked_list.traverse_list()"
      ],
      "metadata": {
        "colab": {
          "base_uri": "https://localhost:8080/"
        },
        "id": "eSxhSbPkSbTt",
        "outputId": "2068797b-e810-4e1c-e58c-cee9683aaa2f"
      },
      "execution_count": 142,
      "outputs": [
        {
          "output_type": "stream",
          "name": "stdout",
          "text": [
            "5  \n",
            "8  \n",
            "25  \n",
            "17  \n"
          ]
        }
      ]
    }
  ]
}