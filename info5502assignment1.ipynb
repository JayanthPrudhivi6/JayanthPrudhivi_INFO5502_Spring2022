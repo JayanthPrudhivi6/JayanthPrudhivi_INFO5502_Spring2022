{
  "cells": [
    {
      "cell_type": "markdown",
      "metadata": {
        "id": "view-in-github",
        "colab_type": "text"
      },
      "source": [
        "<a href=\"https://colab.research.google.com/github/JayanthPrudhivi6/JayanthPrudhivi_INFO5502_Spring2022/blob/main/info5502assignment1.ipynb\" target=\"_parent\"><img src=\"https://colab.research.google.com/assets/colab-badge.svg\" alt=\"Open In Colab\"/></a>"
      ]
    },
    {
      "cell_type": "code",
      "source": [
        ""
      ],
      "metadata": {
        "id": "4FRUT40iTf-8"
      },
      "execution_count": null,
      "outputs": []
    },
    {
      "cell_type": "markdown",
      "metadata": {
        "id": "DymRJbxDBCnf"
      },
      "source": [
        "# **The first Lab-assignment (01/25/2022, 50 points in total)**"
      ]
    },
    {
      "cell_type": "markdown",
      "metadata": {
        "id": "jJDe71iLB616"
      },
      "source": [
        "(1) Write a Python program to count the number of characters in a string. (5 points)\n",
        "\n",
        "Sample String : 'google.com', \n",
        "\n",
        "Expected Result : {'o': 3, 'g': 2, '.': 1, 'e': 1, 'l': 1, 'm': 1, 'c': 1}"
      ]
    },
    {
      "cell_type": "code",
      "execution_count": 20,
      "metadata": {
        "colab": {
          "base_uri": "https://localhost:8080/"
        },
        "id": "MtKskTzbCLaU",
        "outputId": "735307c6-bc42-4001-8688-bb070f72aca9"
      },
      "outputs": [
        {
          "output_type": "stream",
          "name": "stdout",
          "text": [
            "enter a stringgoogle.com\n",
            "{'o': 3, 'g': 2, 'l': 1, 'e': 1, '.': 1, 'c': 1, 'm': 1}\n"
          ]
        }
      ],
      "source": [
        "# (1) Write a Python program to count the number of characters in a string. (5 points)\n",
        "\n",
        "#Sample String : 'google.com',\n",
        "\n",
        "#Expected Result : {'o': 3, 'g': 2, '.': 1, 'e': 1, 'l': 1, 'm': 1, 'c': 1}\n",
        "#write your answer here\n",
        "\n",
        "import operator #operator module is imported to return dictionary in descending order by values\n",
        "def solve(string_): #creating a user defined function\n",
        "  dic={}\n",
        "  keys =dic.keys()\n",
        "  for i in string_:\n",
        "    if i not in keys:\n",
        "     dic[i] = 1\n",
        "    else:\n",
        "     dic[i] += 1\n",
        "  return dict(sorted(dic.items(),key = operator.itemgetter(1),reverse=True)) #returns dictionary in descending order by value\n",
        "print(solve(str(input(\"enter a string\"))))\n",
        "\n",
        " \n",
        "\n"
      ]
    },
    {
      "cell_type": "markdown",
      "metadata": {
        "id": "55W9AMdXCSpV"
      },
      "source": [
        "(2) Write a Python program to sum all the items in a list. (5 points)"
      ]
    },
    {
      "cell_type": "code",
      "execution_count": 22,
      "metadata": {
        "id": "I57NXsauCec2",
        "outputId": "70b0ca8c-2614-44b1-8afa-6282ccdc6b15",
        "colab": {
          "base_uri": "https://localhost:8080/"
        }
      },
      "outputs": [
        {
          "output_type": "stream",
          "name": "stdout",
          "text": [
            "Enter the number of elements 5\n",
            "1 2 3 4 10\n",
            "20\n"
          ]
        }
      ],
      "source": [
        "#(2) Write a Python program to sum all the items in a list.\n",
        "# write your answer here\n",
        "n=int(input(\"Enter the number of elements \")) #taking size of list as input\n",
        "list_=list(map(int,input().split()))[:n] #this line will take input as list\n",
        "print(sum(list_)) #inbuilt function sum is used\n"
      ]
    },
    {
      "cell_type": "markdown",
      "metadata": {
        "id": "4ulBZ6yhCi9F"
      },
      "source": [
        "(3) Write a Python program to get a string from a given string where all occurrences of its first char have been changed to '\\$', except the first char itself. (5 points)\n",
        "\n",
        "Sample String : 'restart', \n",
        "\n",
        "Expected Result : 'resta\\$t'"
      ]
    },
    {
      "cell_type": "code",
      "execution_count": 23,
      "metadata": {
        "id": "Fj0XhwbBCw2o",
        "outputId": "70545c7e-c9c7-4ada-8f54-4ca35405455f",
        "colab": {
          "base_uri": "https://localhost:8080/"
        }
      },
      "outputs": [
        {
          "output_type": "stream",
          "name": "stdout",
          "text": [
            " Enter the string restart\n",
            "resta$t\n"
          ]
        }
      ],
      "source": [
        "#(3) Write a Python program to get a string from a given string where all occurrences of its first char have been changed to '$', except the first char itself. (5 points)\n",
        "\n",
        "#Sample String : 'restart',\n",
        "\n",
        "#Expected Result : 'resta$t' \n",
        "#write your answer here\n",
        "str_=str(input(\" Enter the string \"))\n",
        "a=str_[0] ##this is the first letter of the string as we are assigning first character of string to variable a\n",
        "print(a+str_[1:].replace(a,'$',len(str_)))#from second letter we are replacing next occurence of first letter instance with $\n"
      ]
    },
    {
      "cell_type": "markdown",
      "metadata": {
        "id": "_bIP7s1MCzue"
      },
      "source": [
        "(4) Write a program with python which could accept two parameter a and b to calculate and output the result of S, where \n",
        "\n",
        "$\\ S=3.14*(1+a/b)^3$ (5 points)\n",
        "\n"
      ]
    },
    {
      "cell_type": "code",
      "execution_count": 24,
      "metadata": {
        "colab": {
          "base_uri": "https://localhost:8080/"
        },
        "id": "w79QilHXD3Mg",
        "outputId": "cfe18d08-2079-4dcf-ef78-866af87f01f9"
      },
      "outputs": [
        {
          "output_type": "stream",
          "name": "stdout",
          "text": [
            "Enetr any two values here 2 3\n",
            "14.537037037037033\n"
          ]
        }
      ],
      "source": [
        "#(4) Write a program with python which could accept two parameter a and b to calculate and output the result of S, where\n",
        "\n",
        " #S=3.14∗(1+a/b)3\n",
        "\n",
        "# write your answer here\n",
        "def caluc_(a,b):\n",
        "    S=3.14*(1+𝑎/𝑏)**3\n",
        "    return S\n",
        "    \n",
        "a,b=list(map(int,input(\"Enetr any two values here \").split()))# we are taking two numbers as input from the user.Then splitting and \n",
        "                                                                  #assigning to two variable (a,b)\n",
        "print(caluc_(a,b))\n",
        "\n"
      ]
    },
    {
      "cell_type": "markdown",
      "metadata": {
        "id": "xCa2bK9aD4Q3"
      },
      "source": [
        "(5) Write a Python program to concatenate following dictionaries to create a new one. (5 points)\n",
        "\n",
        "Sample Dictionary : dic1={1:10, 2:20}, dic2={3:30, 4:40}, dic3={5:50,6:60}, \n",
        "\n",
        "Expected Result : {1: 10, 2: 20, 3: 30, 4: 40, 5: 50, 6: 60}\n"
      ]
    },
    {
      "cell_type": "code",
      "execution_count": 25,
      "metadata": {
        "colab": {
          "base_uri": "https://localhost:8080/"
        },
        "id": "_z4aLqAbEET1",
        "outputId": "9333b47e-3291-490d-a62c-6e4dc948a5f1"
      },
      "outputs": [
        {
          "output_type": "execute_result",
          "data": {
            "text/plain": [
              "{1: 10, 2: 20, 3: 30, 4: 40, 5: 50, 6: 60}"
            ]
          },
          "metadata": {},
          "execution_count": 25
        }
      ],
      "source": [
        "'''(5) Write a Python program to concatenate following dictionaries to create a new one. (5 points)\n",
        "\n",
        "Sample Dictionary : dic1={1:10, 2:20}, dic2={3:30, 4:40}, dic3={5:50,6:60},\n",
        "\n",
        "Expected Result : {1: 10, 2: 20, 3: 30, 4: 40, 5: 50, 6: 60}'''\n",
        "\n",
        "#write your answer here\n",
        "dic1={1:10, 2:20}\n",
        "dic2={3:30, 4:40}\n",
        "dic3={5:50,6:60}\n",
        "dict_ = {}\n",
        "#we are running the for loop,and for each iteration we are updating the dict_.update in dictionary ,will add new items to existing one\n",
        "for d in [dic1, dic2, dic3]:\n",
        "  dict_.update(d)\n",
        "dict_\n"
      ]
    },
    {
      "cell_type": "markdown",
      "metadata": {
        "id": "0v48Vqa7FrQh"
      },
      "source": [
        "(6) Write a Python program to check whether an element exists within a tuple. (5 points)"
      ]
    },
    {
      "cell_type": "code",
      "execution_count": 26,
      "metadata": {
        "id": "7WEmgq-DF2P1",
        "outputId": "841d9b10-d039-445b-b82a-89bc4017f4dc",
        "colab": {
          "base_uri": "https://localhost:8080/"
        }
      },
      "outputs": [
        {
          "output_type": "stream",
          "name": "stdout",
          "text": [
            "enter the elements5 6 1 55 22\n",
            "enter the number to check in the tuple2\n",
            "No\n",
            " 2 is not present in tuple\n"
          ]
        }
      ],
      "source": [
        "# (6) Write a Python program to check whether an element exists within a tuple.\n",
        "#write your answer here\n",
        "\n",
        "d=tuple(map(int,input(\"enter the elements\").split()))#taking input from user and splitting them to store in tuple format\n",
        "n=int(input(\"enter the number to check in the tuple\"))#taking input to check whether it  present in tuple or not\n",
        "if n in d:\n",
        "    print(\"yes\",n,\"is present in tuple\")\n",
        "else:    \n",
        "    print(\"No\\n\",n,'is not present in tuple')    \n",
        "    \n",
        "\n",
        "    \n"
      ]
    },
    {
      "cell_type": "markdown",
      "metadata": {
        "id": "vD5PYLMuGga_"
      },
      "source": [
        "(7) Write a Python program to find maximum and the minimum value in a set. (5 points)"
      ]
    },
    {
      "cell_type": "code",
      "execution_count": 27,
      "metadata": {
        "id": "t0D5kdJUGjjw",
        "outputId": "f1f213e6-26be-434e-8f33-6f7515ace070",
        "colab": {
          "base_uri": "https://localhost:8080/"
        }
      },
      "outputs": [
        {
          "output_type": "stream",
          "name": "stdout",
          "text": [
            "enter the elements1 22 6 7 99\n",
            "maximum element 99\n",
            "minimum element 1\n"
          ]
        }
      ],
      "source": [
        "# (7) Write a Python program to find maximum and the minimum value in a set.\n",
        "\n",
        "#write your answer here\n",
        "\n",
        "Set_=set(map(int,input(\"enter the elements\").split()))\n",
        "print('maximum element',max(Set_))#max function inpython will give the maximum value\n",
        "print('minimum element',min(Set_))#min function inpython will give the minimum value\n"
      ]
    },
    {
      "cell_type": "markdown",
      "metadata": {
        "id": "uHkd-y5VhVWC"
      },
      "source": [
        "(8) Write a Python program to randomly divide the students in this class into six groups for term projects, each group should have at least 4 students but no more than 6 students (including 6). Here is the students list: (5 points)\n",
        "\n",
        "studnet_list = ['ja0964','sa1198','sb1357','vb0218','sc1229','kg0569','kg0470','sg1297','bg0320','fh0141','jl1252','sk1386',\n",
        "           'ak0956','sk1390','sk1458','sk1313','ak0934','vm0377','nm0618','sm1640','sm1907','gn0108','pr0353','dr0609','ms1500','aos0040','ds0814', 'av0659','nv0234','hy0232']"
      ]
    },
    {
      "cell_type": "code",
      "execution_count": 28,
      "metadata": {
        "id": "3iGbmcOBhTwy",
        "outputId": "908fa7e3-2d1f-4310-91b4-12b9482cf037",
        "colab": {
          "base_uri": "https://localhost:8080/"
        }
      },
      "outputs": [
        {
          "output_type": "stream",
          "name": "stdout",
          "text": [
            "The length of the list is 30\n"
          ]
        },
        {
          "output_type": "execute_result",
          "data": {
            "text/plain": [
              "[['vm0377', 'nm0618', 'fh0141', 'sk1386', 'sm1907'],\n",
              " ['aos0040', 'kg0470', 'sb1357', 'bg0320', 'ak0934'],\n",
              " ['ja0964', 'pr0353', 'jl1252', 'gn0108', 'ds0814'],\n",
              " ['sa1198', 'ak0956', 'hy0232', 'dr0609', 'av0659'],\n",
              " ['vb0218', 'sk1390', 'sm1640', 'ms1500', 'nv0234'],\n",
              " ['sg1297', 'sk1313', 'sk1458', 'sc1229', 'kg0569']]"
            ]
          },
          "metadata": {},
          "execution_count": 28
        }
      ],
      "source": [
        "'''(8) Write a Python program to randomly divide the students in this class into six groups for term projects, each group should have at least 4 students but no more than 6 students (including 6). Here is the students list: (5 points)\n",
        "\n",
        "studnet_list = ['ja0964','sa1198','sb1357','vb0218','sc1229','kg0569','kg0470','sg1297','bg0320','fh0141','jl1252','sk1386', 'ak0956','sk1390','sk1458','sk1313','ak0934','vm0377','nm0618','sm1640','sm1907','gn0108','pr0353','dr0609','ms1500','aos0040','ds0814', 'av0659','nv0234','hy0232'] \n",
        "\n",
        "write your answer here'''\n",
        "\n",
        "\n",
        "import random \n",
        "studnet_list = ['ja0964','sa1198','sb1357','vb0218','sc1229','kg0569','kg0470','sg1297','bg0320','fh0141','jl1252','sk1386', 'ak0956','sk1390','sk1458','sk1313','ak0934','vm0377','nm0618','sm1640','sm1907','gn0108','pr0353','dr0609','ms1500','aos0040','ds0814', 'av0659','nv0234','hy0232']\n",
        "print(\"The length of the list is\",len(studnet_list))#since the length of the list is 30,and we need to make 6 groups from it.(30/6)=5\n",
        "#so for each grup we can put 5 students.\n",
        "\n",
        "n=6\n",
        "d=random.shuffle(studnet_list) #shuffle() is an inbuilt method of the random module. It is used to shuffle a (list)\n",
        "[studnet_list[x::n] for x in range(n)] #returns groups which are shuffled\n",
        "\n"
      ]
    },
    {
      "cell_type": "markdown",
      "metadata": {
        "id": "X9X4EJptGztL"
      },
      "source": [
        "(9) Write a Python program to find the duplicate elements in a given array of integers. Return -1 If there are no such elements. (5 points)"
      ]
    },
    {
      "cell_type": "code",
      "execution_count": 29,
      "metadata": {
        "id": "GF1XqyZsGztL",
        "outputId": "d272a9d5-69c1-4c7d-f2c2-84f91160b3e5",
        "colab": {
          "base_uri": "https://localhost:8080/"
        }
      },
      "outputs": [
        {
          "output_type": "stream",
          "name": "stdout",
          "text": [
            "Enter the elements in the array1 2 99 8 74\n",
            "-1\n"
          ]
        }
      ],
      "source": [
        "#(9) Write a Python program to find the duplicate elements in a given array of integers. Return -1 If there are no such elements. \n",
        "#write your answer here\n",
        "def duplicate_(list1):\n",
        "    set1_=set(list1)#type conversion takes places from list to set\n",
        "    if len(list1)==len(set1_):#set in python wont store duplicate value\n",
        "        return -1  #if list is not having any duplicate values,its length will be equal to length of set \n",
        "    else:\n",
        "        return 1\n",
        "list1=list(map(int,input(\"Enter the elements in the array\").split()))\n",
        "print(duplicate_(list1))\n"
      ]
    },
    {
      "cell_type": "markdown",
      "metadata": {
        "id": "Qayy3UPBGztM"
      },
      "source": [
        "(10) Write a Python program to select all the Sundays of a specified year. (5 extra points)"
      ]
    },
    {
      "cell_type": "code",
      "execution_count": 30,
      "metadata": {
        "id": "WCFy3h__GztN",
        "outputId": "47ff6ed6-bf0b-4c4f-eac2-9c711370410e",
        "colab": {
          "base_uri": "https://localhost:8080/"
        }
      },
      "outputs": [
        {
          "name": "stdout",
          "output_type": "stream",
          "text": [
            "enter the year2022\n"
          ]
        },
        {
          "output_type": "execute_result",
          "data": {
            "text/plain": [
              "0    2022-01-02\n",
              "1    2022-01-09\n",
              "2    2022-01-16\n",
              "3    2022-01-23\n",
              "4    2022-01-30\n",
              "5    2022-02-06\n",
              "6    2022-02-13\n",
              "7    2022-02-20\n",
              "8    2022-02-27\n",
              "9    2022-03-06\n",
              "10   2022-03-13\n",
              "11   2022-03-20\n",
              "12   2022-03-27\n",
              "13   2022-04-03\n",
              "14   2022-04-10\n",
              "15   2022-04-17\n",
              "16   2022-04-24\n",
              "17   2022-05-01\n",
              "18   2022-05-08\n",
              "19   2022-05-15\n",
              "20   2022-05-22\n",
              "21   2022-05-29\n",
              "22   2022-06-05\n",
              "23   2022-06-12\n",
              "24   2022-06-19\n",
              "25   2022-06-26\n",
              "26   2022-07-03\n",
              "27   2022-07-10\n",
              "28   2022-07-17\n",
              "29   2022-07-24\n",
              "30   2022-07-31\n",
              "31   2022-08-07\n",
              "32   2022-08-14\n",
              "33   2022-08-21\n",
              "34   2022-08-28\n",
              "35   2022-09-04\n",
              "36   2022-09-11\n",
              "37   2022-09-18\n",
              "38   2022-09-25\n",
              "39   2022-10-02\n",
              "40   2022-10-09\n",
              "41   2022-10-16\n",
              "42   2022-10-23\n",
              "43   2022-10-30\n",
              "44   2022-11-06\n",
              "45   2022-11-13\n",
              "46   2022-11-20\n",
              "47   2022-11-27\n",
              "48   2022-12-04\n",
              "49   2022-12-11\n",
              "50   2022-12-18\n",
              "51   2022-12-25\n",
              "dtype: datetime64[ns]"
            ]
          },
          "metadata": {},
          "execution_count": 30
        }
      ],
      "source": [
        "#(10) Write a Python program to select all the Sundays of a specified year \n",
        "#write your answer here\n",
        "import pandas as pd\n",
        "\n",
        "\n",
        "def sundays_(y):\n",
        "    year=str(y)+'-01-01'  #year-month-date\n",
        "    no_of_sundays_=52\n",
        "    day=\"W-\"+\"SUN\"  \n",
        "    return pd.Series(pd.date_range(year,periods=52,freq=day))#mostly there will be 52 sundays.so i took periods=52\n",
        "#i took pandas documenation as reference for this question\n",
        "#pd.series will convert the output to pandas series format\n",
        "y=int(input(\"enter the year\"))                               \n",
        "sundays_(y)\n"
      ]
    },
    {
      "cell_type": "code",
      "execution_count": null,
      "metadata": {
        "id": "3ChH_kRlGztN"
      },
      "outputs": [],
      "source": [
        ""
      ]
    }
  ],
  "metadata": {
    "colab": {
      "collapsed_sections": [],
      "name": "info5502assignment1.ipynb",
      "provenance": [],
      "include_colab_link": true
    },
    "kernelspec": {
      "display_name": "Python 3",
      "language": "python",
      "name": "python3"
    },
    "language_info": {
      "codemirror_mode": {
        "name": "ipython",
        "version": 3
      },
      "file_extension": ".py",
      "mimetype": "text/x-python",
      "name": "python",
      "nbconvert_exporter": "python",
      "pygments_lexer": "ipython3",
      "version": "3.8.8"
    }
  },
  "nbformat": 4,
  "nbformat_minor": 0
}